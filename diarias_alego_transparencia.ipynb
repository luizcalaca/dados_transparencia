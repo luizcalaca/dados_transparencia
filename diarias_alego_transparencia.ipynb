{
 "cells": [
  {
   "cell_type": "code",
   "execution_count": 66,
   "metadata": {
    "collapsed": false
   },
   "outputs": [
    {
     "name": "stderr",
     "output_type": "stream",
     "text": [
      "b'Skipping line 46: expected 12 fields, saw 15\\nSkipping line 57: expected 12 fields, saw 15\\nSkipping line 103: expected 12 fields, saw 15\\n'\n",
      "b'Skipping line 85: expected 12 fields, saw 14\\n'\n"
     ]
    }
   ],
   "source": [
    "import glob\n",
    "import pandas as pd\n",
    "\n",
    "path =r'C:\\Users\\computer\\Desktop\\diarias_alego'\n",
    "\n",
    "allFiles = glob.glob(path + \"/*.csv\")\n",
    "frame = pd.DataFrame()\n",
    "list_ = []\n",
    "\n",
    "#df = pd.read_csv(allFiles[1],index_col=None, header=0, encoding='latin-1', error_bad_lines=False)\n",
    "#df\n",
    "for file_ in allFiles:\n",
    "    df = pd.read_csv(file_, index_col=None, encoding='latin-1', error_bad_lines=False,header=0)\n",
    "    list_.append(df)\n",
    "frame = pd.concat(list_)"
   ]
  },
  {
   "cell_type": "code",
   "execution_count": 67,
   "metadata": {
    "collapsed": false
   },
   "outputs": [
    {
     "data": {
      "text/plain": [
       "Index(['ANO', ' MES', ' MATRICULA', ' NOME', ' CARGO', ' TIPOSOLICITACAO',\n",
       "       ' DATAINICIO', ' DATAFIM', ' TRECHO', ' TRANSPORTE', ' MOTIVO',\n",
       "       ' VALOR'],\n",
       "      dtype='object')"
      ]
     },
     "execution_count": 67,
     "metadata": {},
     "output_type": "execute_result"
    }
   ],
   "source": [
    "frame.columns"
   ]
  },
  {
   "cell_type": "code",
   "execution_count": 68,
   "metadata": {
    "collapsed": false
   },
   "outputs": [
    {
     "data": {
      "text/plain": [
       "(527, 12)"
      ]
     },
     "execution_count": 68,
     "metadata": {},
     "output_type": "execute_result"
    }
   ],
   "source": [
    "frame.shape"
   ]
  },
  {
   "cell_type": "code",
   "execution_count": 70,
   "metadata": {
    "collapsed": false
   },
   "outputs": [
    {
     "data": {
      "text/html": [
       "<div>\n",
       "<table border=\"1\" class=\"dataframe\">\n",
       "  <thead>\n",
       "    <tr style=\"text-align: right;\">\n",
       "      <th></th>\n",
       "      <th>ANO</th>\n",
       "      <th>MES</th>\n",
       "      <th>MATRICULA</th>\n",
       "      <th>NOME</th>\n",
       "      <th>CARGO</th>\n",
       "      <th>TIPOSOLICITACAO</th>\n",
       "      <th>DATAINICIO</th>\n",
       "      <th>DATAFIM</th>\n",
       "      <th>TRECHO</th>\n",
       "      <th>TRANSPORTE</th>\n",
       "      <th>MOTIVO</th>\n",
       "      <th>VALOR</th>\n",
       "    </tr>\n",
       "  </thead>\n",
       "  <tbody>\n",
       "    <tr>\n",
       "      <th>0</th>\n",
       "      <td>2018</td>\n",
       "      <td>9</td>\n",
       "      <td>5011171</td>\n",
       "      <td>ANTÔNIO JULIÃO TAVEIRA FILHO</td>\n",
       "      <td>ASSESSOR NIVEL V</td>\n",
       "      <td>Diária</td>\n",
       "      <td>04-09-2018</td>\n",
       "      <td>04-09-2018</td>\n",
       "      <td>GOIÂNIA-GO ? BRASÍLIA-DF ? GOIÂNIA-GO</td>\n",
       "      <td>Veículo Oficial</td>\n",
       "      <td>PARTICIPAÇÃO DE \"BENCHMARKING NO SENADO FEDERA...</td>\n",
       "      <td>150.0</td>\n",
       "    </tr>\n",
       "    <tr>\n",
       "      <th>1</th>\n",
       "      <td>2018</td>\n",
       "      <td>9</td>\n",
       "      <td>5011034</td>\n",
       "      <td>DIONE ESTEVES SILVA</td>\n",
       "      <td>ASSESSOR NIVEL III</td>\n",
       "      <td>Diária</td>\n",
       "      <td>31-08-2018</td>\n",
       "      <td>31-08-2018</td>\n",
       "      <td>GOIÂNIA-GO ? BRASÍLIA-DF ? GOIÂNIA-GO</td>\n",
       "      <td>Veículo Oficial</td>\n",
       "      <td>TRANSPORTE DE SERVIDORES DA ASSESSORIA ADJUNTA...</td>\n",
       "      <td>150.0</td>\n",
       "    </tr>\n",
       "    <tr>\n",
       "      <th>2</th>\n",
       "      <td>2018</td>\n",
       "      <td>9</td>\n",
       "      <td>2010834</td>\n",
       "      <td>EDILSON BEZERRA DA SILVA</td>\n",
       "      <td>ANALISTA LEGISLATIVO</td>\n",
       "      <td>Diária</td>\n",
       "      <td>04-09-2018</td>\n",
       "      <td>04-09-2018</td>\n",
       "      <td>GOIÂNIA-GO ? BRASÍLIA-DF ? GOIÂNIA-GO</td>\n",
       "      <td>Veículo Oficial</td>\n",
       "      <td>PARTICIPAÇÃO DE \"BENCHMARKING NO SENADO FEDERA...</td>\n",
       "      <td>150.0</td>\n",
       "    </tr>\n",
       "    <tr>\n",
       "      <th>3</th>\n",
       "      <td>2018</td>\n",
       "      <td>9</td>\n",
       "      <td>5018802</td>\n",
       "      <td>EDMÉIA DE PAULA E SOUZA</td>\n",
       "      <td>ASSESSOR NIVEL V</td>\n",
       "      <td>Diária</td>\n",
       "      <td>04-09-2018</td>\n",
       "      <td>04-09-2018</td>\n",
       "      <td>GOIÂNIA-GO ? BRASÍLIA-DF ? GOIÂNIA-GO</td>\n",
       "      <td>Veículo Oficial</td>\n",
       "      <td>PARTICIPAÇÃO DE \"BENCHMARKING NO SENADO FEDERA...</td>\n",
       "      <td>150.0</td>\n",
       "    </tr>\n",
       "    <tr>\n",
       "      <th>4</th>\n",
       "      <td>2018</td>\n",
       "      <td>9</td>\n",
       "      <td>5020947</td>\n",
       "      <td>JOEL DE SANT'ANNA BRAGA FILHO</td>\n",
       "      <td>DIRETOR</td>\n",
       "      <td>Diária</td>\n",
       "      <td>30-08-2018</td>\n",
       "      <td>01-09-2018</td>\n",
       "      <td>GOIÂNIA-GO ? BRASÍLIA-DF ? GOIÂNIA-GO</td>\n",
       "      <td>Veículo Oficial</td>\n",
       "      <td>LEVAR DOCUMENTOS NO MINISTÉRIO DA CIÊNCIA E DA...</td>\n",
       "      <td>1000.0</td>\n",
       "    </tr>\n",
       "    <tr>\n",
       "      <th>5</th>\n",
       "      <td>2018</td>\n",
       "      <td>9</td>\n",
       "      <td>5025225</td>\n",
       "      <td>KAROLINE DE SOUSA DAMACENO</td>\n",
       "      <td>ASSESSOR NIVEL III</td>\n",
       "      <td>Diária</td>\n",
       "      <td>04-09-2018</td>\n",
       "      <td>04-09-2018</td>\n",
       "      <td>GOIÂNIA-GO ? BRASÍLIA-DF ? GOIÂNIA-GO</td>\n",
       "      <td>Veículo Oficial</td>\n",
       "      <td>PARTICIPAÇÃO DE \"BENCHMARKING NO SENADO FEDERA...</td>\n",
       "      <td>150.0</td>\n",
       "    </tr>\n",
       "    <tr>\n",
       "      <th>6</th>\n",
       "      <td>2018</td>\n",
       "      <td>9</td>\n",
       "      <td>5035694</td>\n",
       "      <td>LEANDRO LOSTRACCO DE ALMEIDA FERNANDES</td>\n",
       "      <td>AGENTE ADMINISTRATIVO</td>\n",
       "      <td>Diária</td>\n",
       "      <td>04-09-2018</td>\n",
       "      <td>04-09-2018</td>\n",
       "      <td>GOIÂNIA-GO ? BRASÍLIA-DF ? GOIÂNIA-GO</td>\n",
       "      <td>Veículo Oficial</td>\n",
       "      <td>PARTICIPAÇÃO DE \"BENCHMARKING NO SENADO FEDERA...</td>\n",
       "      <td>150.0</td>\n",
       "    </tr>\n",
       "  </tbody>\n",
       "</table>\n",
       "</div>"
      ],
      "text/plain": [
       "    ANO   MES   MATRICULA                                    NOME  \\\n",
       "0  2018     9     5011171            ANTÔNIO JULIÃO TAVEIRA FILHO   \n",
       "1  2018     9     5011034                     DIONE ESTEVES SILVA   \n",
       "2  2018     9     2010834                EDILSON BEZERRA DA SILVA   \n",
       "3  2018     9     5018802                 EDMÉIA DE PAULA E SOUZA   \n",
       "4  2018     9     5020947           JOEL DE SANT'ANNA BRAGA FILHO   \n",
       "5  2018     9     5025225              KAROLINE DE SOUSA DAMACENO   \n",
       "6  2018     9     5035694  LEANDRO LOSTRACCO DE ALMEIDA FERNANDES   \n",
       "\n",
       "                   CARGO  TIPOSOLICITACAO  DATAINICIO     DATAFIM  \\\n",
       "0       ASSESSOR NIVEL V           Diária  04-09-2018  04-09-2018   \n",
       "1     ASSESSOR NIVEL III           Diária  31-08-2018  31-08-2018   \n",
       "2   ANALISTA LEGISLATIVO           Diária  04-09-2018  04-09-2018   \n",
       "3       ASSESSOR NIVEL V           Diária  04-09-2018  04-09-2018   \n",
       "4                DIRETOR           Diária  30-08-2018  01-09-2018   \n",
       "5     ASSESSOR NIVEL III           Diária  04-09-2018  04-09-2018   \n",
       "6  AGENTE ADMINISTRATIVO           Diária  04-09-2018  04-09-2018   \n",
       "\n",
       "                                  TRECHO       TRANSPORTE  \\\n",
       "0  GOIÂNIA-GO ? BRASÍLIA-DF ? GOIÂNIA-GO  Veículo Oficial   \n",
       "1  GOIÂNIA-GO ? BRASÍLIA-DF ? GOIÂNIA-GO  Veículo Oficial   \n",
       "2  GOIÂNIA-GO ? BRASÍLIA-DF ? GOIÂNIA-GO  Veículo Oficial   \n",
       "3  GOIÂNIA-GO ? BRASÍLIA-DF ? GOIÂNIA-GO  Veículo Oficial   \n",
       "4  GOIÂNIA-GO ? BRASÍLIA-DF ? GOIÂNIA-GO  Veículo Oficial   \n",
       "5  GOIÂNIA-GO ? BRASÍLIA-DF ? GOIÂNIA-GO  Veículo Oficial   \n",
       "6  GOIÂNIA-GO ? BRASÍLIA-DF ? GOIÂNIA-GO  Veículo Oficial   \n",
       "\n",
       "                                              MOTIVO   VALOR  \n",
       "0  PARTICIPAÇÃO DE \"BENCHMARKING NO SENADO FEDERA...   150.0  \n",
       "1  TRANSPORTE DE SERVIDORES DA ASSESSORIA ADJUNTA...   150.0  \n",
       "2  PARTICIPAÇÃO DE \"BENCHMARKING NO SENADO FEDERA...   150.0  \n",
       "3  PARTICIPAÇÃO DE \"BENCHMARKING NO SENADO FEDERA...   150.0  \n",
       "4  LEVAR DOCUMENTOS NO MINISTÉRIO DA CIÊNCIA E DA...  1000.0  \n",
       "5  PARTICIPAÇÃO DE \"BENCHMARKING NO SENADO FEDERA...   150.0  \n",
       "6  PARTICIPAÇÃO DE \"BENCHMARKING NO SENADO FEDERA...   150.0  "
      ]
     },
     "execution_count": 70,
     "metadata": {},
     "output_type": "execute_result"
    }
   ],
   "source": [
    "#5 maiores diárias\n",
    "\n",
    "#df.sort_values(by=['ANO'], ascending=False)\n",
    "df.tail(10)"
   ]
  },
  {
   "cell_type": "code",
   "execution_count": null,
   "metadata": {
    "collapsed": true
   },
   "outputs": [],
   "source": []
  }
 ],
 "metadata": {
  "anaconda-cloud": {},
  "kernelspec": {
   "display_name": "Python [default]",
   "language": "python",
   "name": "python3"
  },
  "language_info": {
   "codemirror_mode": {
    "name": "ipython",
    "version": 3
   },
   "file_extension": ".py",
   "mimetype": "text/x-python",
   "name": "python",
   "nbconvert_exporter": "python",
   "pygments_lexer": "ipython3",
   "version": "3.5.2"
  }
 },
 "nbformat": 4,
 "nbformat_minor": 1
}
